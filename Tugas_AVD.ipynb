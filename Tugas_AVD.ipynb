{
  "nbformat": 4,
  "nbformat_minor": 0,
  "metadata": {
    "colab": {
      "provenance": [],
      "mount_file_id": "1_zGbTDFYg1qGkLR1pYh3MrGsj3yymHhx",
      "authorship_tag": "ABX9TyPq0Eyhbim3+zkLSTVUE/th",
      "include_colab_link": true
    },
    "kernelspec": {
      "name": "python3",
      "display_name": "Python 3"
    },
    "language_info": {
      "name": "python"
    }
  },
  "cells": [
    {
      "cell_type": "markdown",
      "metadata": {
        "id": "view-in-github",
        "colab_type": "text"
      },
      "source": [
        "<a href=\"https://colab.research.google.com/github/ainunnnnnn23/AVD/blob/main/Tugas_AVD.ipynb\" target=\"_parent\"><img src=\"https://colab.research.google.com/assets/colab-badge.svg\" alt=\"Open In Colab\"/></a>"
      ]
    },
    {
      "cell_type": "markdown",
      "source": [
        "# **Analasis Faktor yang Mempengaruhi Rating Produk Kosmetik**"
      ],
      "metadata": {
        "id": "FT59K1MyEe0l"
      }
    },
    {
      "cell_type": "markdown",
      "source": [
        "**BUSINESS UNDERSTANDING**"
      ],
      "metadata": {
        "id": "g6A7XHr6-MTs"
      }
    },
    {
      "cell_type": "markdown",
      "source": [
        "**Business Objective**\n",
        "\n",
        "Industri kosmetik berkembang pesat dengan persaingan yang semakin ketat. Rating produk memiliki peran penting dalam membentuk persepsi konsumen dan mempengaruhi keputusan pembelian. Produk dengan rating tinggi cenderung lebih dipercaya oleh pelanggan, sementara rating rendah dapat menurunkan daya saing suatu produk. Oleh karena itu, penting bagi perusahaan kosmetik untuk memahami faktor-faktor yang berkontribusi terhadap rating produk mereka agar dapat meningkatkan kualitas produk dan strategi pemasaran."
      ],
      "metadata": {
        "id": "Vuwi5BiM-Vho"
      }
    },
    {
      "cell_type": "markdown",
      "source": [
        "**Access Situation**\n",
        "\n",
        "Dataset yang digunakan dalam analisis ini berisi informasi tentang berbagai produk kosmetik, termasuk nama produk, merek, kategori, harga, rating, jumlah ulasan, jenis kulit yang sesuai, bahan utama, dan lain-lain. Dengan data ini, kita dapat mengevaluasi faktor-faktor yang memiliki pengaruh signifikan terhadap rating produk kosmetik yang digunakan oleh konsumen."
      ],
      "metadata": {
        "id": "PSEib5m8-8iU"
      }
    },
    {
      "cell_type": "markdown",
      "source": [
        "**Data Mining Goals**\n",
        "\n",
        "Analisis ini dilakukan untuk memahami faktor utama yang berkontribusi terhadap peringkat produk kosmetik. Dalam prosesnya, penelitian ini akan menentukan apakah harga, jumlah ulasan, dan bahan utama memiliki hubungan yang signifikan dengan peringkat produk. Hasil dari analisis ini akan memberikan rekomendasi berbasis data kepada produsen kosmetik sehingga mereka dapat meningkatkan daya saing serta kepuasan pelanggan terhadap produk yang mereka tawarkan.\n"
      ],
      "metadata": {
        "id": "e6C12SjX_jYO"
      }
    },
    {
      "cell_type": "markdown",
      "source": [
        "**Project Plan**\n",
        "\n",
        "Pendekatan dalam analisis ini dimulai dengan eksplorasi data untuk memahami distribusi peringkat, harga, dan faktor lainnya yang terdapat dalam dataset. Setelah itu, dilakukan analisis korelasi guna mengidentifikasi hubungan antara peringkat produk dengan berbagai variabel menggunakan metode statistik. Berdasarkan hasil analisis yang diperoleh, langkah selanjutnya adalah menyusun kesimpulan dan memberikan rekomendasi yang dapat membantu bisnis dalam meningkatkan kinerja produk mereka di pasar kosmetik."
      ],
      "metadata": {
        "id": "XuNeGiRtBtIC"
      }
    },
    {
      "cell_type": "markdown",
      "source": [
        "**DATA UNDERSTANDING**"
      ],
      "metadata": {
        "id": "r8nxpCcyKLhF"
      }
    }
  ]
}